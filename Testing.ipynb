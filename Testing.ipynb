{
 "cells": [
  {
   "cell_type": "code",
   "execution_count": 31,
   "id": "407640d5",
   "metadata": {},
   "outputs": [],
   "source": [
    "def simulate(price_history): \n",
    "    diffs = np.diff(np.log(price_history))\n",
    "\n",
    "    std = np.std(diffs) ** 2\n",
    "    drift = np.mean(diffs) + std ** 2 / 2\n",
    "\n",
    "    future = []\n",
    "    for _ in range(1): \n",
    "        future.append(np.cumsum(np.random.normal(drift, std, 3)))\n",
    "\n",
    "    future_prices_estimates = price_history[-1] * np.exp(np.array(future))\n",
    "\n",
    "    return np.mean(future_prices_estimates), np.std(future_prices_estimates)    \n",
    "\n"
   ]
  },
  {
   "cell_type": "code",
   "execution_count": 33,
   "id": "b7f92340",
   "metadata": {},
   "outputs": [
    {
     "data": {
      "text/plain": [
       "(83.43427391502001, 0.5352531132215701)"
      ]
     },
     "execution_count": 33,
     "metadata": {},
     "output_type": "execute_result"
    }
   ],
   "source": [
    "simulate(price_history)"
   ]
  },
  {
   "cell_type": "code",
   "execution_count": 2,
   "id": "417cd7b6",
   "metadata": {},
   "outputs": [
    {
     "name": "stdout",
     "output_type": "stream",
     "text": [
      "Welcome to the game!\n",
      "RUNNN\n",
      "[100.5, 99.8980484008789, 100.16717529296875, 100.30915069580078, 100.60249328613281, 100.83250427246094, 100.99629974365234, 100.9830322265625, 100.9766616821289, 101.04842376708984] [99.5, 100.03199768066406, 100.26638793945312, 100.36935424804688, 100.68502044677734, 101.00607299804688, 101.16409301757812, 101.10124969482422, 101.07162475585938, 101.19403839111328]\n",
      "[-0.00034983  0.0025153   0.00122131  0.00303015  0.00273395  0.00159315\n",
      " -0.00037656 -0.00017814  0.00096057]\n",
      "1.6020001466213905e-06 0.001238879865023832\n",
      "101.37211709983201 0.1025355852964647\n",
      "RUNNN\n",
      "[100.5, 99.8980484008789, 100.16717529296875, 100.30915069580078, 100.60249328613281, 100.83250427246094, 100.99629974365234, 100.9830322265625, 100.9766616821289, 101.04842376708984, 101.28092956542969] [99.5, 100.03199768066406, 100.26638793945312, 100.36935424804688, 100.68502044677734, 101.00607299804688, 101.16409301757812, 101.10124969482422, 101.07162475585938, 101.19403839111328, 101.5202407836914]\n",
      "[ 0.0025153   0.00122131  0.00303015  0.00273395  0.00159315 -0.00037656\n",
      " -0.00017814  0.00096057  0.00275876]\n",
      "1.45892501267104e-06 0.001584278543347549\n",
      "101.72243883879732 0.13156907716051774\n",
      "RUNNN\n",
      "[100.5, 99.8980484008789, 100.16717529296875, 100.30915069580078, 100.60249328613281, 100.83250427246094, 100.99629974365234, 100.9830322265625, 100.9766616821289, 101.04842376708984, 101.28092956542969, 101.38287353515625] [99.5, 100.03199768066406, 100.26638793945312, 100.36935424804688, 100.68502044677734, 101.00607299804688, 101.16409301757812, 101.10124969482422, 101.07162475585938, 101.19403839111328, 101.5202407836914, 101.42850494384766]\n",
      "[ 1.22131325e-03  3.03015293e-03  2.73395294e-03  1.59315039e-03\n",
      " -3.76558285e-04 -1.78137009e-04  9.60574714e-04  2.75875733e-03\n",
      "  5.03343889e-05]\n",
      "1.5490433410512295e-06 0.001310393407258358\n",
      "101.67175946685629 0.10875235890369744\n",
      "RUNNN\n",
      "[100.5, 99.8980484008789, 100.16717529296875, 100.30915069580078, 100.60249328613281, 100.83250427246094, 100.99629974365234, 100.9830322265625, 100.9766616821289, 101.04842376708984, 101.28092956542969, 101.38287353515625, 101.18437194824219] [99.5, 100.03199768066406, 100.26638793945312, 100.36935424804688, 100.68502044677734, 101.00607299804688, 101.16409301757812, 101.10124969482422, 101.07162475585938, 101.19403839111328, 101.5202407836914, 101.42850494384766, 101.42852020263672]\n",
      "[ 3.03015293e-03  2.73395294e-03  1.59315039e-03 -3.76558285e-04\n",
      " -1.78137009e-04  9.60574714e-04  2.75875733e-03  5.03343889e-05\n",
      " -9.79153733e-04]\n",
      "2.0708305324002247e-06 0.0010658970767370949\n",
      "101.52272724547211 0.08834813063365625\n",
      "RUNNN\n",
      "[100.5, 99.8980484008789, 100.16717529296875, 100.30915069580078, 100.60249328613281, 100.83250427246094, 100.99629974365234, 100.9830322265625, 100.9766616821289, 101.04842376708984, 101.28092956542969, 101.38287353515625, 101.18437194824219, 101.44529724121094] [99.5, 100.03199768066406, 100.26638793945312, 100.36935424804688, 100.68502044677734, 101.00607299804688, 101.16409301757812, 101.10124969482422, 101.07162475585938, 101.19403839111328, 101.5202407836914, 101.42850494384766, 101.42852020263672, 101.61078643798828]\n",
      "[ 2.73395294e-03  1.59315039e-03 -3.76558285e-04 -1.78137009e-04\n",
      "  9.60574714e-04  2.75875733e-03  5.03343889e-05 -9.79153733e-04\n",
      "  2.18499186e-03]\n",
      "1.772464499148937e-06 0.0009719902901688339\n",
      "101.72568378968951 0.08070453181900697\n",
      "RUNNN\n",
      "[100.5, 99.8980484008789, 100.16717529296875, 100.30915069580078, 100.60249328613281, 100.83250427246094, 100.99629974365234, 100.9830322265625, 100.9766616821289, 101.04842376708984, 101.28092956542969, 101.38287353515625, 101.18437194824219, 101.44529724121094, 101.64078521728516] [99.5, 100.03199768066406, 100.26638793945312, 100.36935424804688, 100.68502044677734, 101.00607299804688, 101.16409301757812, 101.10124969482422, 101.07162475585938, 101.19403839111328, 101.5202407836914, 101.42850494384766, 101.42852020263672, 101.61078643798828, 101.77809143066406]\n",
      "[ 1.59315039e-03 -3.76558285e-04 -1.78137009e-04  9.60574714e-04\n",
      "  2.75875733e-03  5.03343889e-05 -9.79153733e-04  2.18499186e-03\n",
      "  1.78506969e-03]\n",
      "1.4898582285313328e-06 0.0008665588171453175\n",
      "101.8859796945155 0.07213587054973232\n",
      "RUNNN\n",
      "[100.5, 99.8980484008789, 100.16717529296875, 100.30915069580078, 100.60249328613281, 100.83250427246094, 100.99629974365234, 100.9830322265625, 100.9766616821289, 101.04842376708984, 101.28092956542969, 101.38287353515625, 101.18437194824219, 101.44529724121094, 101.64078521728516, 101.3650894165039] [99.5, 100.03199768066406, 100.26638793945312, 100.36935424804688, 100.68502044677734, 101.00607299804688, 101.16409301757812, 101.10124969482422, 101.07162475585938, 101.19403839111328, 101.5202407836914, 101.42850494384766, 101.42852020263672, 101.61078643798828, 101.77809143066406, 101.49491882324219]\n",
      "[-3.76558285e-04 -1.78137009e-04  9.60574714e-04  2.75875733e-03\n",
      "  5.03343889e-05 -9.79153733e-04  2.18499186e-03  1.78506969e-03\n",
      " -2.75115829e-03]\n",
      "2.652407088129207e-06 0.000383857855077047\n",
      "101.5080601074846 0.03180827443849059\n",
      "RUNNN\n",
      "[100.5, 99.8980484008789, 100.16717529296875, 100.30915069580078, 100.60249328613281, 100.83250427246094, 100.99629974365234, 100.9830322265625, 100.9766616821289, 101.04842376708984, 101.28092956542969, 101.38287353515625, 101.18437194824219, 101.44529724121094, 101.64078521728516, 101.3650894165039, 101.327880859375] [99.5, 100.03199768066406, 100.26638793945312, 100.36935424804688, 100.68502044677734, 101.00607299804688, 101.16409301757812, 101.10124969482422, 101.07162475585938, 101.19403839111328, 101.5202407836914, 101.42850494384766, 101.42852020263672, 101.61078643798828, 101.77809143066406, 101.49491882324219, 101.47795867919922]\n",
      "[-1.78137009e-04  9.60574714e-04  2.75875733e-03  5.03343889e-05\n",
      " -9.79153733e-04  2.18499186e-03  1.78506969e-03 -2.75115829e-03\n",
      " -2.67060694e-04]\n",
      "2.6350882060244333e-06 0.00039602425400931323\n",
      "101.48328080447462 0.032779521933531494\n",
      "RUNNN\n",
      "[100.5, 99.8980484008789, 100.16717529296875, 100.30915069580078, 100.60249328613281, 100.83250427246094, 100.99629974365234, 100.9830322265625, 100.9766616821289, 101.04842376708984, 101.28092956542969, 101.38287353515625, 101.18437194824219, 101.44529724121094, 101.64078521728516, 101.3650894165039, 101.327880859375, 101.9082260131836] [99.5, 100.03199768066406, 100.26638793945312, 100.36935424804688, 100.68502044677734, 101.00607299804688, 101.16409301757812, 101.10124969482422, 101.07162475585938, 101.19403839111328, 101.5202407836914, 101.42850494384766, 101.42852020263672, 101.61078643798828, 101.77809143066406, 101.49491882324219, 101.47795867919922, 102.07957458496094]\n",
      "[ 9.60574714e-04  2.75875733e-03  5.03343889e-05 -9.79153733e-04\n",
      "  2.18499186e-03  1.78506969e-03 -2.75115829e-03 -2.67060694e-04\n",
      "  5.81112520e-03]\n",
      "5.413750576994339e-06 0.0010614978434418036\n",
      "102.21087746299074 0.08877931883306152\n",
      "Total profit: -9637.986251831055\n",
      "Total holding: 1 at price 100.43421936035156 for a total of 100.43421936035156\n",
      "Total cash: 261.57952880859375\n",
      "Final Revenue: 362.0137481689453\n",
      "7.218724012374878\n"
     ]
    }
   ],
   "source": [
    "from time import time\n",
    "import cProfile\n",
    "\n",
    "\n",
    "start = time()\n",
    "\n",
    "from simulation import Simulation\n",
    "from maker import SimpleMarketMaker as MarketMaker\n",
    "\n",
    "print(\"Welcome to the game!\")\n",
    "mm = MarketMaker()\n",
    "sim = Simulation(mm)\n",
    "sim.run(logging=True)\n",
    "sim.summarize(logging=True)\n",
    "\n",
    "end = time()\n",
    "\n",
    "print(end - start)"
   ]
  },
  {
   "cell_type": "code",
   "execution_count": null,
   "id": "a116bfd6",
   "metadata": {},
   "outputs": [],
   "source": []
  },
  {
   "cell_type": "code",
   "execution_count": 1,
   "id": "2d1108a7",
   "metadata": {},
   "outputs": [
    {
     "name": "stdout",
     "output_type": "stream",
     "text": [
      "Welcome to the game!\n",
      "Total profit: -9813.815948486328\n",
      "Total holding: 0 at price 368.94427490234375 for a total of 0.0\n",
      "Total cash: 186.18405151367188\n",
      "Final Revenue: 186.18405151367188\n",
      "2.1454601287841797\n"
     ]
    }
   ],
   "source": [
    "from time import time\n",
    "import cProfile\n",
    "\n",
    "\n",
    "start = time()\n",
    "\n",
    "from simulation import Simulation\n",
    "from maker import SimpleMarketMaker as MarketMaker\n",
    "\n",
    "print(\"Welcome to the game!\")\n",
    "mm = MarketMaker()\n",
    "sim = Simulation(mm)\n",
    "sim.run(logging=True)\n",
    "sim.summarize(logging=True)\n",
    "\n",
    "end = time()\n",
    "\n",
    "print(end - start)"
   ]
  },
  {
   "cell_type": "code",
   "execution_count": null,
   "id": "bdb58bf7",
   "metadata": {},
   "outputs": [],
   "source": []
  },
  {
   "cell_type": "markdown",
   "id": "812d18ff",
   "metadata": {},
   "source": [
    "- Expect price reversion based off history  \n",
    "- spread should be based off history "
   ]
  },
  {
   "cell_type": "code",
   "execution_count": 5,
   "id": "6e07f68c",
   "metadata": {},
   "outputs": [
    {
     "ename": "KeyboardInterrupt",
     "evalue": "",
     "output_type": "error",
     "traceback": [
      "\u001b[1;31m---------------------------------------------------------------------------\u001b[0m",
      "\u001b[1;31mKeyboardInterrupt\u001b[0m                         Traceback (most recent call last)",
      "Cell \u001b[1;32mIn[5], line 3\u001b[0m\n\u001b[0;32m      1\u001b[0m \u001b[38;5;28;01mimport\u001b[39;00m \u001b[38;5;21;01mcProfile\u001b[39;00m\n\u001b[1;32m----> 3\u001b[0m data \u001b[38;5;241m=\u001b[39m cProfile\u001b[38;5;241m.\u001b[39mrun(\u001b[38;5;124m'\u001b[39m\u001b[38;5;124msim.run(logging=True)\u001b[39m\u001b[38;5;124m'\u001b[39m, \u001b[38;5;124m'\u001b[39m\u001b[38;5;124mrestats_list.prof\u001b[39m\u001b[38;5;124m'\u001b[39m)\n",
      "File \u001b[1;32m~\\anaconda3\\Lib\\cProfile.py:17\u001b[0m, in \u001b[0;36mrun\u001b[1;34m(statement, filename, sort)\u001b[0m\n\u001b[0;32m     16\u001b[0m \u001b[38;5;28;01mdef\u001b[39;00m \u001b[38;5;21mrun\u001b[39m(statement, filename\u001b[38;5;241m=\u001b[39m\u001b[38;5;28;01mNone\u001b[39;00m, sort\u001b[38;5;241m=\u001b[39m\u001b[38;5;241m-\u001b[39m\u001b[38;5;241m1\u001b[39m):\n\u001b[1;32m---> 17\u001b[0m     \u001b[38;5;28;01mreturn\u001b[39;00m _pyprofile\u001b[38;5;241m.\u001b[39m_Utils(Profile)\u001b[38;5;241m.\u001b[39mrun(statement, filename, sort)\n",
      "File \u001b[1;32m~\\anaconda3\\Lib\\profile.py:54\u001b[0m, in \u001b[0;36m_Utils.run\u001b[1;34m(self, statement, filename, sort)\u001b[0m\n\u001b[0;32m     52\u001b[0m prof \u001b[38;5;241m=\u001b[39m \u001b[38;5;28mself\u001b[39m\u001b[38;5;241m.\u001b[39mprofiler()\n\u001b[0;32m     53\u001b[0m \u001b[38;5;28;01mtry\u001b[39;00m:\n\u001b[1;32m---> 54\u001b[0m     prof\u001b[38;5;241m.\u001b[39mrun(statement)\n\u001b[0;32m     55\u001b[0m \u001b[38;5;28;01mexcept\u001b[39;00m \u001b[38;5;167;01mSystemExit\u001b[39;00m:\n\u001b[0;32m     56\u001b[0m     \u001b[38;5;28;01mpass\u001b[39;00m\n",
      "File \u001b[1;32m~\\anaconda3\\Lib\\cProfile.py:96\u001b[0m, in \u001b[0;36mProfile.run\u001b[1;34m(self, cmd)\u001b[0m\n\u001b[0;32m     94\u001b[0m \u001b[38;5;28;01mimport\u001b[39;00m \u001b[38;5;21;01m__main__\u001b[39;00m\n\u001b[0;32m     95\u001b[0m \u001b[38;5;28mdict\u001b[39m \u001b[38;5;241m=\u001b[39m __main__\u001b[38;5;241m.\u001b[39m\u001b[38;5;18m__dict__\u001b[39m\n\u001b[1;32m---> 96\u001b[0m \u001b[38;5;28;01mreturn\u001b[39;00m \u001b[38;5;28mself\u001b[39m\u001b[38;5;241m.\u001b[39mrunctx(cmd, \u001b[38;5;28mdict\u001b[39m, \u001b[38;5;28mdict\u001b[39m)\n",
      "File \u001b[1;32m~\\anaconda3\\Lib\\cProfile.py:101\u001b[0m, in \u001b[0;36mProfile.runctx\u001b[1;34m(self, cmd, globals, locals)\u001b[0m\n\u001b[0;32m     99\u001b[0m \u001b[38;5;28mself\u001b[39m\u001b[38;5;241m.\u001b[39menable()\n\u001b[0;32m    100\u001b[0m \u001b[38;5;28;01mtry\u001b[39;00m:\n\u001b[1;32m--> 101\u001b[0m     exec(cmd, \u001b[38;5;28mglobals\u001b[39m, \u001b[38;5;28mlocals\u001b[39m)\n\u001b[0;32m    102\u001b[0m \u001b[38;5;28;01mfinally\u001b[39;00m:\n\u001b[0;32m    103\u001b[0m     \u001b[38;5;28mself\u001b[39m\u001b[38;5;241m.\u001b[39mdisable()\n",
      "File \u001b[1;32m<string>:1\u001b[0m\n",
      "File \u001b[1;32m~\\Yash\\yashcoding\\Python Coding\\ATC\\MM-game-skeleton-main\\simulation.py:229\u001b[0m, in \u001b[0;36mSimulation.run\u001b[1;34m(self, fast, logging)\u001b[0m\n\u001b[0;32m    226\u001b[0m     mmSell \u001b[38;5;241m+\u001b[39m\u001b[38;5;241m=\u001b[39m np\u001b[38;5;241m.\u001b[39mrandom\u001b[38;5;241m.\u001b[39muniform(\u001b[38;5;241m-\u001b[39mmmSell \u001b[38;5;241m/\u001b[39m \u001b[38;5;241m20\u001b[39m, mmSell \u001b[38;5;241m/\u001b[39m \u001b[38;5;241m30\u001b[39m)\n\u001b[0;32m    227\u001b[0m     [mmBuy, mmSell] \u001b[38;5;241m=\u001b[39m \u001b[38;5;28mself\u001b[39m\u001b[38;5;241m.\u001b[39mmm\u001b[38;5;241m.\u001b[39mgetNextPrices(mmBuy, vb, mmSell, vs)\n\u001b[1;32m--> 229\u001b[0m \u001b[38;5;28mself\u001b[39m\u001b[38;5;241m.\u001b[39mmmBuy\u001b[38;5;241m.\u001b[39mappend(mmBuy)\n\u001b[0;32m    230\u001b[0m \u001b[38;5;28mself\u001b[39m\u001b[38;5;241m.\u001b[39mmmSell\u001b[38;5;241m.\u001b[39mappend(mmSell)\n\u001b[0;32m    232\u001b[0m \u001b[38;5;28mself\u001b[39m\u001b[38;5;241m.\u001b[39mbuy\u001b[38;5;241m.\u001b[39mappend(mb)\n",
      "\u001b[1;31mKeyboardInterrupt\u001b[0m: "
     ]
    }
   ],
   "source": [
    "import cProfile\n",
    "\n",
    "data = cProfile.run('sim.run(logging=True)', 'restats_list.prof')"
   ]
  },
  {
   "cell_type": "code",
   "execution_count": null,
   "id": "3ccbbcbb",
   "metadata": {},
   "outputs": [],
   "source": [
    "file = \"restats_list.prof\""
   ]
  },
  {
   "cell_type": "code",
   "execution_count": null,
   "id": "5a8ff54d",
   "metadata": {},
   "outputs": [],
   "source": [
    "import cProfile\n",
    "\n",
    "data = cProfile.run('sim.run(logging=True)', file)"
   ]
  },
  {
   "cell_type": "code",
   "execution_count": 3,
   "id": "bb054765",
   "metadata": {},
   "outputs": [
    {
     "name": "stdout",
     "output_type": "stream",
     "text": [
      "Sun Nov 17 14:14:54 2024    restats\n",
      "\n",
      "         789802 function calls in 1371.441 seconds\n",
      "\n",
      "   Ordered by: internal time\n",
      "\n",
      "   ncalls  tottime  percall  cumtime  percall filename:lineno(function)\n",
      "   256347 1365.365    0.005 1365.365    0.005 C:\\Users\\megat\\Yash\\yashcoding\\Python Coding\\ATC\\MM-game-skeleton-main\\logger.py:6(log)\n",
      "        1    2.677    2.677 1371.441 1371.441 C:\\Users\\megat\\Yash\\yashcoding\\Python Coding\\ATC\\MM-game-skeleton-main\\simulation.py:193(run)\n",
      "    23400    1.000    0.000  205.758    0.009 C:\\Users\\megat\\Yash\\yashcoding\\Python Coding\\ATC\\MM-game-skeleton-main\\simulation.py:99(executeLimitOrders)\n",
      "    23400    0.945    0.000    0.945    0.000 {built-in method mm_game._core.getNextPrices}\n",
      "    23400    0.284    0.000  150.146    0.006 C:\\Users\\megat\\Yash\\yashcoding\\Python Coding\\ATC\\MM-game-skeleton-main\\simulation.py:46(checkAndUpdate)\n",
      "    23401    0.257    0.000  379.290    0.016 C:\\Users\\megat\\Yash\\yashcoding\\Python Coding\\ATC\\MM-game-skeleton-main\\logger.py:18(spacing)\n",
      "    46772    0.180    0.000  249.804    0.005 C:\\Users\\megat\\Yash\\yashcoding\\Python Coding\\ATC\\MM-game-skeleton-main\\logger.py:12(warning)\n",
      "    23400    0.157    0.000    0.188    0.000 C:\\Users\\megat\\Yash\\yashcoding\\Python Coding\\ATC\\MM-game-skeleton-main\\maker.py:22(new_limit_order)\n",
      "    23400    0.102    0.000    0.290    0.000 C:\\Users\\megat\\Yash\\yashcoding\\Python Coding\\ATC\\MM-game-skeleton-main\\maker.py:81(update)\n",
      "    23400    0.090    0.000    0.090    0.000 C:\\Users\\megat\\Yash\\yashcoding\\Python Coding\\ATC\\MM-game-skeleton-main\\maker.py:19(__str__)\n",
      "    23366    0.086    0.000    0.086    0.000 {method 'remove' of 'list' objects}\n",
      "    22369    0.080    0.000  104.406    0.005 C:\\Users\\megat\\Yash\\yashcoding\\Python Coding\\ATC\\MM-game-skeleton-main\\logger.py:15(info)\n",
      "   187162    0.058    0.000    0.058    0.000 {method 'append' of 'list' objects}\n",
      "    23362    0.054    0.000    0.058    0.000 C:\\Users\\megat\\Yash\\yashcoding\\Python Coding\\ATC\\MM-game-skeleton-main\\simulation.py:154(addLimitOrder)\n",
      "    23400    0.040    0.000    0.040    0.000 C:\\Users\\megat\\Yash\\yashcoding\\Python Coding\\ATC\\MM-game-skeleton-main\\simulation.py:74(get_original_money)\n",
      "    19819    0.034    0.000    0.034    0.000 {built-in method math.floor}\n",
      "    23400    0.031    0.000    0.031    0.000 C:\\Users\\megat\\Yash\\yashcoding\\Python Coding\\ATC\\MM-game-skeleton-main\\maker.py:14(__init__)\n",
      "        1    0.000    0.000 1371.441 1371.441 {built-in method builtins.exec}\n",
      "        1    0.000    0.000 1371.441 1371.441 <string>:1(<module>)\n",
      "        1    0.000    0.000    0.000    0.000 {method 'disable' of '_lsprof.Profiler' objects}\n",
      "\n",
      "\n"
     ]
    },
    {
     "data": {
      "text/plain": [
       "<pstats.Stats at 0x1f42cdf86d0>"
      ]
     },
     "execution_count": 3,
     "metadata": {},
     "output_type": "execute_result"
    }
   ],
   "source": [
    "import pstats\n",
    "\n",
    "p = pstats.Stats(file)\n",
    "p.sort_stats(pstats.SortKey.TIME)\n",
    "p.print_stats()"
   ]
  },
  {
   "cell_type": "code",
   "execution_count": null,
   "id": "3a26836f",
   "metadata": {},
   "outputs": [],
   "source": []
  }
 ],
 "metadata": {
  "kernelspec": {
   "display_name": "Python 3 (ipykernel)",
   "language": "python",
   "name": "python3"
  },
  "language_info": {
   "codemirror_mode": {
    "name": "ipython",
    "version": 3
   },
   "file_extension": ".py",
   "mimetype": "text/x-python",
   "name": "python",
   "nbconvert_exporter": "python",
   "pygments_lexer": "ipython3",
   "version": "3.11.5"
  }
 },
 "nbformat": 4,
 "nbformat_minor": 5
}
